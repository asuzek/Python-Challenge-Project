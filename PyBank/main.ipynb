{
 "cells": [
  {
   "cell_type": "code",
   "execution_count": 81,
   "metadata": {},
   "outputs": [],
   "source": [
    "# Modules\n",
    "import os\n",
    "import csv\n",
    "fname=\"../../Instructions/PyBank/Resources/budget_data.csv\"\n",
    "# Set path for file\n",
    "csvpath = os.path.join(fname)"
   ]
  },
  {
   "cell_type": "code",
   "execution_count": 82,
   "metadata": {},
   "outputs": [],
   "source": [
    "with open(csvpath, newline='') as csvfile:\n",
    "\n",
    "#   CSV reader specifies delimiter and variable that holds contents\n",
    "    csvreader = csv.reader(csvfile, delimiter=',')\n",
    "\n",
    "#     print(csvreader)\n",
    "#    Read the header row first (skip this step if there is now header)\n",
    "    csv_header = next(csvreader)\n",
    "    #print(f\"CSV Header: {csv_header}\")\n",
    "\n",
    "    # Read each row of data after the header\n",
    "    months=0\n",
    "    total=0\n",
    "    ave_change=0\n",
    "    gre_inc=0\n",
    "    gre_dec=0\n",
    "    panl=[]\n",
    "    all_csv=[]\n",
    "    for row in csvreader:\n",
    "        #print(row)\n",
    "        months+=1\n",
    "        total+=int(row[1])\n",
    "        panl.append(int(row[1]))\n",
    "        all_csv.append([row[0], int(row[1])])\n",
    "#     print(panl)"
   ]
  },
  {
   "cell_type": "code",
   "execution_count": 83,
   "metadata": {},
   "outputs": [],
   "source": [
    "sum=0\n",
    "changes=[]\n",
    "length=len(panl)-1\n",
    "#loop through panl list to get the average, max inc and dec\n",
    "for i in range(0,length):\n",
    "        changes.append(panl[i+1]- panl[i])\n",
    "        sum = sum + changes[i]\n",
    "\n",
    "#print(f\" this is the changes changes{changes}\") \n",
    "ave_change=sum/(i+1) \n",
    "gre_inc=max(changes)\n",
    "gre_inc_ind=changes.index(max(changes))+1 #gre_inc_ind\n",
    "gre_dec=min(changes)\n",
    "gre_dec_ind=changes.index(min(changes))+1 #gre_dec_ind"
   ]
  },
  {
   "cell_type": "code",
   "execution_count": 84,
   "metadata": {},
   "outputs": [
    {
     "name": "stdout",
     "output_type": "stream",
     "text": [
      "Financial Analysis\n",
      "----------------------------------------\n",
      "Total months: 86\n",
      "Total: $38382578\n",
      "Average  Change: $-2315.12\n",
      "Greatest Increase: Feb-2012, $1926159\n",
      "Greatest Decrease: Sep-2013, $-2196167\n"
     ]
    }
   ],
   "source": [
    "        print(f\"Financial Analysis\")\n",
    "print(f\"----------------------------------------\")\n",
    "print(f\"Total months: {months}\")\n",
    "print(f\"Total: ${total}\")\n",
    "print(f\"Average  Change: ${round(ave_change, 2)}\")\n",
    "print(f\"Greatest Increase: {all_csv[gre_inc_ind][0]}, ${gre_inc}\")\n",
    "print(f\"Greatest Decrease: {all_csv[gre_dec_ind][0]}, ${gre_dec}\")\n"
   ]
  },
  {
   "cell_type": "code",
   "execution_count": 85,
   "metadata": {},
   "outputs": [
    {
     "name": "stdout",
     "output_type": "stream",
     "text": [
      "/Users/abe/Gitmy/homework-instructions/03-Python/python-challenge/PyBank\r\n"
     ]
    }
   ],
   "source": [
    "!pwd"
   ]
  },
  {
   "cell_type": "code",
   "execution_count": null,
   "metadata": {},
   "outputs": [],
   "source": []
  }
 ],
 "metadata": {
  "kernelspec": {
   "display_name": "Python 3",
   "language": "python",
   "name": "python3"
  },
  "language_info": {
   "codemirror_mode": {
    "name": "ipython",
    "version": 3
   },
   "file_extension": ".py",
   "mimetype": "text/x-python",
   "name": "python",
   "nbconvert_exporter": "python",
   "pygments_lexer": "ipython3",
   "version": "3.7.1"
  }
 },
 "nbformat": 4,
 "nbformat_minor": 2
}
